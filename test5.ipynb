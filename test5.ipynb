{
 "cells": [
  {
   "cell_type": "code",
   "execution_count": 1,
   "id": "b1afb620-619b-4624-a7bc-fb65f69160c8",
   "metadata": {},
   "outputs": [],
   "source": [
    "# i am first"
   ]
  },
  {
   "cell_type": "code",
   "execution_count": 3,
   "id": "443ea1db-796a-4475-9d77-a4659f7e2814",
   "metadata": {},
   "outputs": [
    {
     "data": {
      "text/plain": [
       "'# i am first'"
      ]
     },
     "execution_count": 3,
     "metadata": {},
     "output_type": "execute_result"
    }
   ],
   "source": [
    "In[1]"
   ]
  },
  {
   "cell_type": "code",
   "execution_count": 4,
   "id": "638f22e2-da8b-41af-af7e-17ffd064e624",
   "metadata": {},
   "outputs": [],
   "source": [
    "# i am what"
   ]
  },
  {
   "cell_type": "code",
   "execution_count": null,
   "id": "6fecd1f3-13cb-49a0-ab6b-dac5d5c5a76c",
   "metadata": {},
   "outputs": [],
   "source": []
  },
  {
   "cell_type": "code",
   "execution_count": 7,
   "id": "371da3fa-ec4c-4219-9ee2-e4d1ece47b4f",
   "metadata": {},
   "outputs": [
    {
     "data": {
      "text/plain": [
       "'In[1]\\nIN[2]'"
      ]
     },
     "execution_count": 7,
     "metadata": {},
     "output_type": "execute_result"
    }
   ],
   "source": [
    "In[0]\n",
    "In[1]\n",
    "In[2]\n",
    "In[3]\n",
    "In[4]\n",
    "In[5]"
   ]
  },
  {
   "cell_type": "code",
   "execution_count": 24,
   "id": "6d2fb38b-9098-4f90-b003-a7ff088318da",
   "metadata": {},
   "outputs": [
    {
     "data": {
      "text/plain": [
       "'In[1]\\nIN[2]'"
      ]
     },
     "execution_count": 24,
     "metadata": {},
     "output_type": "execute_result"
    }
   ],
   "source": [
    "In[5]"
   ]
  },
  {
   "cell_type": "code",
   "execution_count": 19,
   "id": "376a3669-8944-4290-80eb-51b9785f5a6c",
   "metadata": {},
   "outputs": [
    {
     "name": "stdout",
     "output_type": "stream",
     "text": [
      "# i am first\n",
      "In[0]\n",
      "In[1]\n",
      "# i am what\n",
      "In[1]\n",
      "IN[2]\n",
      "In[1]\n",
      "In[2]\n",
      "In[0]\n",
      "In[1]\n",
      "In[2]\n",
      "In[3]\n",
      "In[4]\n",
      "In[5]\n",
      "In[1]\n",
      "In[7]\n",
      "In[-1]\n",
      "In[-2]\n",
      "In[-2]\n",
      "In[-7]\n",
      "In[-4]\n",
      "In[2]\n",
      "In[5]\n",
      "In[6]\n",
      "In[7]\n",
      "history\n"
     ]
    }
   ],
   "source": [
    "history"
   ]
  },
  {
   "cell_type": "code",
   "execution_count": 22,
   "id": "43070705-60f9-43e5-ab57-407665bcfc76",
   "metadata": {},
   "outputs": [
    {
     "data": {
      "text/plain": [
       "'In[7]'"
      ]
     },
     "execution_count": 22,
     "metadata": {},
     "output_type": "execute_result"
    }
   ],
   "source": [
    "In[9]"
   ]
  },
  {
   "cell_type": "code",
   "execution_count": 29,
   "id": "a629ed51-fee3-4abb-8a26-87a33bd82903",
   "metadata": {},
   "outputs": [
    {
     "name": "stdout",
     "output_type": "stream",
     "text": [
      "Input cell index: 0, Content: 2\n",
      "Input cell index: 1, Content: 3\n",
      "Input cell index: 2, Content: 6\n",
      "Input cell index: 3, Content: 7\n",
      "Input cell index: 4, Content: 8\n",
      "Input cell index: 5, Content: 9\n",
      "Input cell index: 6, Content: 10\n",
      "Input cell index: 7, Content: 11\n",
      "Input cell index: 8, Content: 12\n",
      "Input cell index: 9, Content: 13\n",
      "Input cell index: 10, Content: 14\n",
      "Input cell index: 11, Content: 15\n",
      "Input cell index: 12, Content: 16\n",
      "Input cell index: 13, Content: 17\n",
      "Input cell index: 14, Content: 18\n",
      "Input cell index: 15, Content: 20\n",
      "Input cell index: 16, Content: 21\n",
      "Input cell index: 17, Content: 22\n",
      "Input cell index: 18, Content: 24\n"
     ]
    }
   ],
   "source": [
    "from IPython.core.getipython import get_ipython\n",
    "\n",
    "# Get the running IPython instance\n",
    "ipython = get_ipython()\n",
    "\n",
    "# Get the list of all cells in the notebook\n",
    "all_cells = ipython.user_ns['Out']\n",
    "\n",
    "# Iterate through the cells and print their indices\n",
    "for cell_index, cell_content in enumerate(all_cells):\n",
    "    if cell_content:\n",
    "        print(f\"Input cell index: {cell_index}, Content: {cell_content}\")"
   ]
  },
  {
   "cell_type": "code",
   "execution_count": 28,
   "id": "c7512426-4270-47a1-b97e-5cf538434268",
   "metadata": {},
   "outputs": [
    {
     "ename": "KeyError",
     "evalue": "1",
     "output_type": "error",
     "traceback": [
      "\u001b[1;31m---------------------------------------------------------------------------\u001b[0m",
      "\u001b[1;31mKeyError\u001b[0m                                  Traceback (most recent call last)",
      "Cell \u001b[1;32mIn[28], line 16\u001b[0m\n\u001b[0;32m     14\u001b[0m \u001b[38;5;28;01mif\u001b[39;00m cell_content:\n\u001b[0;32m     15\u001b[0m     cell_id_tag \u001b[38;5;241m=\u001b[39m \u001b[38;5;28;01mNone\u001b[39;00m\n\u001b[1;32m---> 16\u001b[0m     cell_metadata \u001b[38;5;241m=\u001b[39m \u001b[43mipython\u001b[49m\u001b[38;5;241;43m.\u001b[39;49m\u001b[43muser_ns\u001b[49m\u001b[43m[\u001b[49m\u001b[38;5;124;43m'\u001b[39;49m\u001b[38;5;124;43mOut\u001b[39;49m\u001b[38;5;124;43m'\u001b[39;49m\u001b[43m]\u001b[49m\u001b[43m[\u001b[49m\u001b[43mcell_index\u001b[49m\u001b[43m]\u001b[49m\u001b[38;5;241m.\u001b[39mmetadata\n\u001b[0;32m     17\u001b[0m     \u001b[38;5;28;01mif\u001b[39;00m \u001b[38;5;124m'\u001b[39m\u001b[38;5;124mtags\u001b[39m\u001b[38;5;124m'\u001b[39m \u001b[38;5;129;01min\u001b[39;00m cell_metadata:\n\u001b[0;32m     18\u001b[0m         tags \u001b[38;5;241m=\u001b[39m cell_metadata[\u001b[38;5;124m'\u001b[39m\u001b[38;5;124mtags\u001b[39m\u001b[38;5;124m'\u001b[39m]\n",
      "\u001b[1;31mKeyError\u001b[0m: 1"
     ]
    }
   ],
   "source": [
    "from IPython.core.getipython import get_ipython\n",
    "\n",
    "# Get the running IPython instance\n",
    "ipython = get_ipython()\n",
    "\n",
    "# Get the list of all cells in the notebook\n",
    "all_cells = ipython.user_ns['In']\n",
    "\n",
    "# Create a dictionary to store cell IDs and execution order\n",
    "cell_order = {}\n",
    "\n",
    "# Iterate through the cells and extract cell IDs from tags\n",
    "for cell_index, cell_content in enumerate(all_cells):\n",
    "    if cell_content:\n",
    "        cell_id_tag = None\n",
    "        cell_metadata = ipython.user_ns['Out'][cell_index].metadata\n",
    "        if 'tags' in cell_metadata:\n",
    "            tags = cell_metadata['tags']\n",
    "            for tag in tags:\n",
    "                if tag.startswith('cell_id:'):\n",
    "                    cell_id_tag = tag\n",
    "                    break\n",
    "\n",
    "        if cell_id_tag:\n",
    "            cell_id = cell_id_tag.split(':')[1]\n",
    "            cell_order[cell_id] = cell_index\n",
    "\n",
    "# Print the cell order\n",
    "print(\"Cell Order:\", cell_order)"
   ]
  },
  {
   "cell_type": "code",
   "execution_count": 30,
   "id": "f13e43f1-4163-45c5-ac73-1b3791e43d7f",
   "metadata": {},
   "outputs": [
    {
     "ename": "TypeError",
     "evalue": "string indices must be integers, not 'str'",
     "output_type": "error",
     "traceback": [
      "\u001b[1;31m---------------------------------------------------------------------------\u001b[0m",
      "\u001b[1;31mTypeError\u001b[0m                                 Traceback (most recent call last)",
      "Cell \u001b[1;32mIn[30], line 2\u001b[0m\n\u001b[0;32m      1\u001b[0m \u001b[38;5;28;01mfor\u001b[39;00m cell \u001b[38;5;129;01min\u001b[39;00m ipython\u001b[38;5;241m.\u001b[39muser_ns[\u001b[38;5;124m'\u001b[39m\u001b[38;5;124mIn\u001b[39m\u001b[38;5;124m'\u001b[39m]:\n\u001b[1;32m----> 2\u001b[0m   \u001b[38;5;28mprint\u001b[39m(\u001b[43mcell\u001b[49m\u001b[43m[\u001b[49m\u001b[38;5;124;43m'\u001b[39;49m\u001b[38;5;124;43mcontent\u001b[39;49m\u001b[38;5;124;43m'\u001b[39;49m\u001b[43m]\u001b[49m)\n",
      "\u001b[1;31mTypeError\u001b[0m: string indices must be integers, not 'str'"
     ]
    }
   ],
   "source": [
    "for cell in ipython.user_ns['In']:\n",
    "  print(cell['content'])"
   ]
  },
  {
   "cell_type": "code",
   "execution_count": 3,
   "id": "84bb6db7-cbe3-4cbc-89e2-0ec3716f9b93",
   "metadata": {},
   "outputs": [
    {
     "ename": "ModuleNotFoundError",
     "evalue": "No module named 'notebook.notebookapp'",
     "output_type": "error",
     "traceback": [
      "\u001b[1;31m---------------------------------------------------------------------------\u001b[0m",
      "\u001b[1;31mModuleNotFoundError\u001b[0m                       Traceback (most recent call last)",
      "Cell \u001b[1;32mIn[3], line 3\u001b[0m\n\u001b[0;32m      1\u001b[0m \u001b[38;5;28;01mimport\u001b[39;00m \u001b[38;5;21;01mos\u001b[39;00m\n\u001b[0;32m      2\u001b[0m \u001b[38;5;28;01mimport\u001b[39;00m \u001b[38;5;21;01mnotebook\u001b[39;00m\n\u001b[1;32m----> 3\u001b[0m \u001b[38;5;28;01mfrom\u001b[39;00m \u001b[38;5;21;01mnotebook\u001b[39;00m\u001b[38;5;21;01m.\u001b[39;00m\u001b[38;5;21;01mnotebookapp\u001b[39;00m \u001b[38;5;28;01mimport\u001b[39;00m list_running_servers\n\u001b[0;32m      5\u001b[0m \u001b[38;5;66;03m# Get the current notebook file's name\u001b[39;00m\n\u001b[0;32m      6\u001b[0m \u001b[38;5;28;01mdef\u001b[39;00m \u001b[38;5;21mget_notebook_filename\u001b[39m():\n\u001b[0;32m      7\u001b[0m     \u001b[38;5;66;03m# Find the Jupyter server connection file\u001b[39;00m\n",
      "\u001b[1;31mModuleNotFoundError\u001b[0m: No module named 'notebook.notebookapp'"
     ]
    }
   ],
   "source": [
    "import os\n",
    "import notebook\n",
    "from notebook.notebookapp import list_running_servers\n",
    "\n",
    "# Get the current notebook file's name\n",
    "def get_notebook_filename():\n",
    "    # Find the Jupyter server connection file\n",
    "    connection_file = notebook.notebookapp.list_running_servers()[0]['connection_file']\n",
    "    \n",
    "    # Extract the notebook's name from the connection file\n",
    "    nb_filename = os.path.basename(connection_file).replace('kernel-', '').replace('.json', '')\n",
    "    \n",
    "    return nb_filename\n",
    "\n",
    "notebook_filename = get_notebook_filename()\n",
    "print(\"Notebook filename:\", notebook_filename)"
   ]
  },
  {
   "cell_type": "code",
   "execution_count": 4,
   "id": "0993e935-f6ea-4317-9582-9720d2871148",
   "metadata": {},
   "outputs": [
    {
     "ename": "ImportError",
     "evalue": "cannot import name 'notebookapp' from 'notebook' (C:\\Users\\admin\\.conda\\envs\\gai\\Lib\\site-packages\\notebook\\__init__.py)",
     "output_type": "error",
     "traceback": [
      "\u001b[1;31m---------------------------------------------------------------------------\u001b[0m",
      "\u001b[1;31mImportError\u001b[0m                               Traceback (most recent call last)",
      "Cell \u001b[1;32mIn[4], line 3\u001b[0m\n\u001b[0;32m      1\u001b[0m \u001b[38;5;28;01mimport\u001b[39;00m \u001b[38;5;21;01mos\u001b[39;00m\n\u001b[0;32m      2\u001b[0m \u001b[38;5;28;01mfrom\u001b[39;00m \u001b[38;5;21;01mIPython\u001b[39;00m\u001b[38;5;21;01m.\u001b[39;00m\u001b[38;5;21;01mdisplay\u001b[39;00m \u001b[38;5;28;01mimport\u001b[39;00m display, HTML, Javascript\n\u001b[1;32m----> 3\u001b[0m \u001b[38;5;28;01mfrom\u001b[39;00m \u001b[38;5;21;01mnotebook\u001b[39;00m \u001b[38;5;28;01mimport\u001b[39;00m notebookapp\n\u001b[0;32m      5\u001b[0m \u001b[38;5;66;03m# Get the current notebook file's name\u001b[39;00m\n\u001b[0;32m      6\u001b[0m \u001b[38;5;28;01mdef\u001b[39;00m \u001b[38;5;21mget_notebook_filename\u001b[39m():\n",
      "\u001b[1;31mImportError\u001b[0m: cannot import name 'notebookapp' from 'notebook' (C:\\Users\\admin\\.conda\\envs\\gai\\Lib\\site-packages\\notebook\\__init__.py)"
     ]
    }
   ],
   "source": [
    "import os\n",
    "from IPython.display import display, HTML, Javascript\n",
    "from notebook import notebookapp\n",
    "\n",
    "# Get the current notebook file's name\n",
    "def get_notebook_filename():\n",
    "    try:\n",
    "        # Get the notebook server's root directory\n",
    "        server_info = list(notebookapp.list_running_servers())[0]\n",
    "        root_dir = server_info['root_dir']\n",
    "        \n",
    "        # Get the current notebook's path\n",
    "        notebook_path = os.getcwd().replace(root_dir, \"\")\n",
    "        \n",
    "        # Extract the notebook's filename\n",
    "        notebook_filename = os.path.basename(notebook_path)\n",
    "        \n",
    "        return notebook_filename\n",
    "    except Exception as e:\n",
    "        return str(e)\n",
    "\n",
    "notebook_filename = get_notebook_filename()\n",
    "print(\"Notebook filename:\", notebook_filename)"
   ]
  },
  {
   "cell_type": "code",
   "execution_count": null,
   "id": "024618f0-b759-4cfe-b295-e3155cfc3df2",
   "metadata": {},
   "outputs": [],
   "source": [
    "from ipylab import JupyterFrontEnd\n",
    "\n",
    "app = JupyterFrontEnd()\n",
    "app.commands.execute('docmanager:save')"
   ]
  },
  {
   "cell_type": "code",
   "execution_count": 2,
   "id": "d8f059ab-3049-46d7-a16d-f0c02f067cf2",
   "metadata": {},
   "outputs": [
    {
     "name": "stdout",
     "output_type": "stream",
     "text": [
      "Notebook filename: module 'notebook' has no attribute 'notebookapp'\n"
     ]
    }
   ],
   "source": [
    "import os\n",
    "from IPython.display import display, HTML, Javascript\n",
    "import notebook\n",
    "\n",
    "# Get the current notebook file's name\n",
    "def get_notebook_filename():\n",
    "    try:\n",
    "        # Get the notebook server's root directory\n",
    "        server_info = list(notebook.notebookapp.list_running_servers())[0]\n",
    "        root_dir = server_info['root_dir']\n",
    "        \n",
    "        # Get the current notebook's path\n",
    "        notebook_path = os.getcwd().replace(root_dir, \"\")\n",
    "        \n",
    "        # Extract the notebook's filename\n",
    "        notebook_filename = os.path.basename(notebook_path)\n",
    "        \n",
    "        return notebook_filename\n",
    "    except Exception as e:\n",
    "        return str(e)\n",
    "\n",
    "notebook_filename = get_notebook_filename()\n",
    "print(\"Notebook filename:\", notebook_filename)\n"
   ]
  }
 ],
 "metadata": {
  "kernelspec": {
   "display_name": "Python 3 (ipykernel)",
   "language": "python",
   "name": "python3"
  },
  "language_info": {
   "codemirror_mode": {
    "name": "ipython",
    "version": 3
   },
   "file_extension": ".py",
   "mimetype": "text/x-python",
   "name": "python",
   "nbconvert_exporter": "python",
   "pygments_lexer": "ipython3",
   "version": "3.11.4"
  }
 },
 "nbformat": 4,
 "nbformat_minor": 5
}
